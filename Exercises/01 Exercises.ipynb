{
  "cells": [
    {
      "cell_type": "markdown",
      "metadata": {
        "id": "1Nt2F2DRNssn"
      },
      "source": [
        "## Exercise 01.1\n",
        "\n",
        "Degrees Fahrenheit ($T_F$) are converted to degrees Celsius ($T_c$) using the formula:\n",
        "\n",
        "$$\n",
        "T_c = 5(T_f - 32)/9\n",
        "$$\n",
        "\n",
        "Write a program to convert 46 degrees Fahrenheit to degrees Celsius and print the result.\n",
        "Write your program such that you can easily change the temperature in Fahrenheit that you are converting from.\n",
        "\n",
        "Use the variable name `T_c` for the temperature in degrees Celsius."
      ]
    },
    {
      "cell_type": "code",
      "execution_count": 3,
      "metadata": {
        "nbgrader": {
          "grade": false,
          "grade_id": "cell-ca2d6af7fabf2918",
          "locked": false,
          "schema_version": 3,
          "solution": true
        },
        "tags": [],
        "colab": {
          "base_uri": "https://localhost:8080/"
        },
        "id": "pNmPWqGCNsss",
        "outputId": "3b00320b-684e-470a-f676-e90c4721a54c"
      },
      "outputs": [
        {
          "output_type": "stream",
          "name": "stdout",
          "text": [
            "500.0\n"
          ]
        }
      ],
      "source": [
        "T_f = 932\n",
        "...\n",
        "T_c = 5*(T_f - 32)/9\n",
        "print(T_c)\n"
      ]
    },
    {
      "cell_type": "code",
      "execution_count": null,
      "metadata": {
        "nbgrader": {
          "grade": true,
          "grade_id": "cell-a7542313c8cdf4ed",
          "locked": true,
          "points": 0,
          "schema_version": 3,
          "solution": false
        },
        "id": "fl5ALJm0Nssu"
      },
      "outputs": [],
      "source": [
        "## test ##\n",
        "import math\n",
        "assert math.isclose(T_c, 7.77777777777777)"
      ]
    },
    {
      "cell_type": "markdown",
      "metadata": {
        "id": "hK8N_YPONssv"
      },
      "source": [
        "## Exercise 01.2\n",
        "\n",
        "You have been tasked with developing a mortgage affordability test tool. A component is to compute the monthly\n",
        "interest payments for a range of scenarios.\n",
        "\n",
        "Interest on a particular mortgage is charged at fixed rate above the Bank of England (BoE) 'official Bank Rate'.\n",
        "Interest is computed per annum, and interest payments spread equally over each month of the year.\n",
        "Write a program that computes the interest payable each month, with variables for:\n",
        "\n",
        "1. Loan principal (amount borrowed, fixed)\n",
        "1. Official Bank Rate (percentage, expressed per annum)\n",
        "1. Rate over the official Bank Rate (percentage, expressed per annum)\n",
        "\n",
        "Test your program with a loan principal of £172,000, BoE rate of 2.25%, and rate over the\n",
        "BoE rate of 1.49%. Use the variable name `interest` for the monthly interest amount."
      ]
    },
    {
      "cell_type": "code",
      "execution_count": 8,
      "metadata": {
        "nbgrader": {
          "grade": false,
          "grade_id": "cell-aaab53918bb9627d",
          "locked": false,
          "schema_version": 3,
          "solution": true
        },
        "tags": [],
        "colab": {
          "base_uri": "https://localhost:8080/"
        },
        "id": "p9c14GvxNssw",
        "outputId": "a24b6ead-102e-4f5e-cc67-004377eb32d7"
      },
      "outputs": [
        {
          "output_type": "stream",
          "name": "stdout",
          "text": [
            "536.0666666666667\n"
          ]
        },
        {
          "output_type": "execute_result",
          "data": {
            "text/plain": [
              "Ellipsis"
            ]
          },
          "metadata": {},
          "execution_count": 8
        }
      ],
      "source": [
        "# Assign data to variables\n",
        "principal = 172000\n",
        "A = 2.25\n",
        "B = 1.49\n",
        "interest = principal*(A+B)/1200\n",
        "print(interest)\n",
        "..."
      ]
    },
    {
      "cell_type": "code",
      "execution_count": 6,
      "metadata": {
        "nbgrader": {
          "grade": true,
          "grade_id": "cell-258e3a2c80f6a765",
          "locked": true,
          "points": 0,
          "schema_version": 3,
          "solution": false
        },
        "colab": {
          "base_uri": "https://localhost:8080/",
          "height": 159
        },
        "id": "C0ks1dV0Nssx",
        "outputId": "f4940eda-0124-4107-80dc-7a23d75d2c50"
      },
      "outputs": [
        {
          "output_type": "error",
          "ename": "NameError",
          "evalue": "name 'math' is not defined",
          "traceback": [
            "\u001b[0;31m---------------------------------------------------------------------------\u001b[0m",
            "\u001b[0;31mNameError\u001b[0m                                 Traceback (most recent call last)",
            "\u001b[0;32m<ipython-input-6-f90ca83fe646>\u001b[0m in \u001b[0;36m<cell line: 2>\u001b[0;34m()\u001b[0m\n\u001b[1;32m      1\u001b[0m \u001b[0;31m## test ##\u001b[0m\u001b[0;34m\u001b[0m\u001b[0;34m\u001b[0m\u001b[0m\n\u001b[0;32m----> 2\u001b[0;31m \u001b[0;32massert\u001b[0m \u001b[0mmath\u001b[0m\u001b[0;34m.\u001b[0m\u001b[0misclose\u001b[0m\u001b[0;34m(\u001b[0m\u001b[0minterest\u001b[0m\u001b[0;34m,\u001b[0m \u001b[0;36m536.0666666666667\u001b[0m\u001b[0;34m)\u001b[0m\u001b[0;34m\u001b[0m\u001b[0;34m\u001b[0m\u001b[0m\n\u001b[0m",
            "\u001b[0;31mNameError\u001b[0m: name 'math' is not defined"
          ]
        }
      ],
      "source": [
        "## test ##\n",
        "assert math.isclose(interest, 536.0666666666667)"
      ]
    }
  ],
  "metadata": {
    "celltoolbar": "Create Assignment",
    "kernelspec": {
      "display_name": "Python 3 (ipykernel)",
      "language": "python",
      "name": "python3"
    },
    "language_info": {
      "codemirror_mode": {
        "name": "ipython",
        "version": 3
      },
      "file_extension": ".py",
      "mimetype": "text/x-python",
      "name": "python",
      "nbconvert_exporter": "python",
      "pygments_lexer": "ipython3",
      "version": "3.10.6"
    },
    "otter": {
      "OK_FORMAT": true,
      "assignment_name": "Exercises 1",
      "tests": {}
    },
    "colab": {
      "provenance": []
    }
  },
  "nbformat": 4,
  "nbformat_minor": 0
}